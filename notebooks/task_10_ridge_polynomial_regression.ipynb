{
 "cells": [
  {
   "cell_type": "code",
   "execution_count": 1,
   "metadata": {},
   "outputs": [
    {
     "name": "stdout",
     "output_type": "stream",
     "text": [
      "R^2 for Ridge Regression with Polynomial Transform: 0.7001\n"
     ]
    }
   ],
   "source": [
    "import pandas as pd\n",
    "from sklearn.linear_model import Ridge\n",
    "from sklearn.model_selection import train_test_split\n",
    "from sklearn.preprocessing import PolynomialFeatures\n",
    "from sklearn.metrics import r2_score\n",
    "\n",
    "# Load the cleaned dataset\n",
    "file_path = 'C:/Users/oscar/OneDrive/Escritorio/Python_Projects/House_Sales_Project/data/kc_house_data_cleaned.csv'\n",
    "df = pd.read_csv(file_path)\n",
    "\n",
    "# Select the features for the model\n",
    "features = [\n",
    "    'floors', 'waterfront', 'lat', 'bedrooms', 'sqft_basement', 'view', 'bathrooms',\n",
    "    'sqft_living15', 'sqft_above', 'grade', 'sqft_living'\n",
    "]\n",
    "X = df[features]\n",
    "y = df['price']\n",
    "\n",
    "# Split the data into training and testing sets\n",
    "X_train, X_test, y_train, y_test = train_test_split(X, y, test_size=0.2, random_state=42)\n",
    "\n",
    "# Perform a second-order polynomial transform on both the training and testing data\n",
    "poly = PolynomialFeatures(degree=2)\n",
    "X_train_poly = poly.fit_transform(X_train)\n",
    "X_test_poly = poly.transform(X_test)\n",
    "\n",
    "# Create and fit a Ridge regression model\n",
    "ridge_reg = Ridge(alpha=0.1)  # Regularization parameter\n",
    "ridge_reg.fit(X_train_poly, y_train)\n",
    "\n",
    "# Calculate the R^2 value using the test data\n",
    "y_pred = ridge_reg.predict(X_test_poly)\n",
    "r2 = r2_score(y_test, y_pred)\n",
    "\n",
    "# Output the R^2 value\n",
    "print(f'R^2 for Ridge Regression with Polynomial Transform: {r2:.4f}')\n"
   ]
  }
 ],
 "metadata": {
  "kernelspec": {
   "display_name": ".venv",
   "language": "python",
   "name": "python3"
  },
  "language_info": {
   "codemirror_mode": {
    "name": "ipython",
    "version": 3
   },
   "file_extension": ".py",
   "mimetype": "text/x-python",
   "name": "python",
   "nbconvert_exporter": "python",
   "pygments_lexer": "ipython3",
   "version": "3.13.2"
  }
 },
 "nbformat": 4,
 "nbformat_minor": 2
}
